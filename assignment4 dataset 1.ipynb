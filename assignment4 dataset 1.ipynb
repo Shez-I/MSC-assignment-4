{
 "cells": [
  {
   "cell_type": "code",
   "execution_count": 3,
   "id": "7b739b92",
   "metadata": {},
   "outputs": [],
   "source": [
    "#importing liberaries \n",
    "import pandas as pd\n",
    "import numpy as np\n",
    "import seaborn as sns\n",
    "import matplotlib.pyplot as plt\n",
    "%matplotlib inline\n"
   ]
  },
  {
   "cell_type": "code",
   "execution_count": 4,
   "id": "0ee6ec6e",
   "metadata": {},
   "outputs": [
    {
     "data": {
      "text/plain": [
       "(925, 8)"
      ]
     },
     "execution_count": 4,
     "metadata": {},
     "output_type": "execute_result"
    }
   ],
   "source": [
    "# uploading data set\n",
    "dataset = pd.read_csv('dataset1.csv')\n",
    "dataset.shape"
   ]
  },
  {
   "cell_type": "code",
   "execution_count": 5,
   "id": "07f3dae1",
   "metadata": {},
   "outputs": [
    {
     "data": {
      "text/html": [
       "<div>\n",
       "<style scoped>\n",
       "    .dataframe tbody tr th:only-of-type {\n",
       "        vertical-align: middle;\n",
       "    }\n",
       "\n",
       "    .dataframe tbody tr th {\n",
       "        vertical-align: top;\n",
       "    }\n",
       "\n",
       "    .dataframe thead th {\n",
       "        text-align: right;\n",
       "    }\n",
       "</style>\n",
       "<table border=\"1\" class=\"dataframe\">\n",
       "  <thead>\n",
       "    <tr style=\"text-align: right;\">\n",
       "      <th></th>\n",
       "      <th>target</th>\n",
       "      <th>var1</th>\n",
       "      <th>var2</th>\n",
       "      <th>var3</th>\n",
       "      <th>var4</th>\n",
       "      <th>var5</th>\n",
       "      <th>var6</th>\n",
       "      <th>var7</th>\n",
       "    </tr>\n",
       "  </thead>\n",
       "  <tbody>\n",
       "    <tr>\n",
       "      <th>0</th>\n",
       "      <td>0</td>\n",
       "      <td>509.18</td>\n",
       "      <td>417.681</td>\n",
       "      <td>Micronesia</td>\n",
       "      <td>138.0</td>\n",
       "      <td>393.00</td>\n",
       "      <td>no</td>\n",
       "      <td>20/07/2019 13:21</td>\n",
       "    </tr>\n",
       "    <tr>\n",
       "      <th>1</th>\n",
       "      <td>0</td>\n",
       "      <td>446.06</td>\n",
       "      <td>666.182</td>\n",
       "      <td>Dominica</td>\n",
       "      <td>81.0</td>\n",
       "      <td>352.05</td>\n",
       "      <td>yes</td>\n",
       "      <td>04/04/2019 21:30</td>\n",
       "    </tr>\n",
       "    <tr>\n",
       "      <th>2</th>\n",
       "      <td>1</td>\n",
       "      <td>235.50</td>\n",
       "      <td>398.097</td>\n",
       "      <td>Isle of Man</td>\n",
       "      <td>90.0</td>\n",
       "      <td>339.00</td>\n",
       "      <td>no</td>\n",
       "      <td>03/03/2019 02:59</td>\n",
       "    </tr>\n",
       "    <tr>\n",
       "      <th>3</th>\n",
       "      <td>0</td>\n",
       "      <td>306.02</td>\n",
       "      <td>518.163</td>\n",
       "      <td>Turkmenistan</td>\n",
       "      <td>102.0</td>\n",
       "      <td>439.25</td>\n",
       "      <td>yes</td>\n",
       "      <td>19/03/2019 08:00</td>\n",
       "    </tr>\n",
       "    <tr>\n",
       "      <th>4</th>\n",
       "      <td>0</td>\n",
       "      <td>453.08</td>\n",
       "      <td>600.156</td>\n",
       "      <td>Cameroon</td>\n",
       "      <td>105.0</td>\n",
       "      <td>422.95</td>\n",
       "      <td>no</td>\n",
       "      <td>18/03/2019 13:22</td>\n",
       "    </tr>\n",
       "  </tbody>\n",
       "</table>\n",
       "</div>"
      ],
      "text/plain": [
       "   target    var1     var2          var3   var4    var5 var6              var7\n",
       "0       0  509.18  417.681    Micronesia  138.0  393.00   no  20/07/2019 13:21\n",
       "1       0  446.06  666.182      Dominica   81.0  352.05  yes  04/04/2019 21:30\n",
       "2       1  235.50  398.097   Isle of Man   90.0  339.00   no  03/03/2019 02:59\n",
       "3       0  306.02  518.163  Turkmenistan  102.0  439.25  yes  19/03/2019 08:00\n",
       "4       0  453.08  600.156      Cameroon  105.0  422.95   no  18/03/2019 13:22"
      ]
     },
     "execution_count": 5,
     "metadata": {},
     "output_type": "execute_result"
    }
   ],
   "source": [
    "# exploring data set \n",
    "dataset.head(5)"
   ]
  },
  {
   "cell_type": "code",
   "execution_count": 6,
   "id": "86f168ec",
   "metadata": {},
   "outputs": [
    {
     "data": {
      "text/html": [
       "<div>\n",
       "<style scoped>\n",
       "    .dataframe tbody tr th:only-of-type {\n",
       "        vertical-align: middle;\n",
       "    }\n",
       "\n",
       "    .dataframe tbody tr th {\n",
       "        vertical-align: top;\n",
       "    }\n",
       "\n",
       "    .dataframe thead th {\n",
       "        text-align: right;\n",
       "    }\n",
       "</style>\n",
       "<table border=\"1\" class=\"dataframe\">\n",
       "  <thead>\n",
       "    <tr style=\"text-align: right;\">\n",
       "      <th></th>\n",
       "      <th>target</th>\n",
       "      <th>var1</th>\n",
       "      <th>var2</th>\n",
       "      <th>var4</th>\n",
       "      <th>var5</th>\n",
       "    </tr>\n",
       "  </thead>\n",
       "  <tbody>\n",
       "    <tr>\n",
       "      <th>count</th>\n",
       "      <td>925.000000</td>\n",
       "      <td>925.000000</td>\n",
       "      <td>925.000000</td>\n",
       "      <td>325.000000</td>\n",
       "      <td>925.000000</td>\n",
       "    </tr>\n",
       "    <tr>\n",
       "      <th>mean</th>\n",
       "      <td>0.496216</td>\n",
       "      <td>360.116562</td>\n",
       "      <td>548.390134</td>\n",
       "      <td>108.452308</td>\n",
       "      <td>325.393946</td>\n",
       "    </tr>\n",
       "    <tr>\n",
       "      <th>std</th>\n",
       "      <td>0.500256</td>\n",
       "      <td>87.866662</td>\n",
       "      <td>135.221460</td>\n",
       "      <td>26.325744</td>\n",
       "      <td>78.862779</td>\n",
       "    </tr>\n",
       "    <tr>\n",
       "      <th>min</th>\n",
       "      <td>0.000000</td>\n",
       "      <td>209.560000</td>\n",
       "      <td>139.965000</td>\n",
       "      <td>57.000000</td>\n",
       "      <td>163.000000</td>\n",
       "    </tr>\n",
       "    <tr>\n",
       "      <th>25%</th>\n",
       "      <td>0.000000</td>\n",
       "      <td>278.640000</td>\n",
       "      <td>467.373000</td>\n",
       "      <td>87.000000</td>\n",
       "      <td>257.900000</td>\n",
       "    </tr>\n",
       "    <tr>\n",
       "      <th>50%</th>\n",
       "      <td>0.000000</td>\n",
       "      <td>367.640000</td>\n",
       "      <td>569.841000</td>\n",
       "      <td>105.000000</td>\n",
       "      <td>342.350000</td>\n",
       "    </tr>\n",
       "    <tr>\n",
       "      <th>75%</th>\n",
       "      <td>1.000000</td>\n",
       "      <td>437.600000</td>\n",
       "      <td>652.278000</td>\n",
       "      <td>126.000000</td>\n",
       "      <td>393.000000</td>\n",
       "    </tr>\n",
       "    <tr>\n",
       "      <th>max</th>\n",
       "      <td>1.000000</td>\n",
       "      <td>539.920000</td>\n",
       "      <td>794.848000</td>\n",
       "      <td>180.000000</td>\n",
       "      <td>457.150000</td>\n",
       "    </tr>\n",
       "  </tbody>\n",
       "</table>\n",
       "</div>"
      ],
      "text/plain": [
       "           target        var1        var2        var4        var5\n",
       "count  925.000000  925.000000  925.000000  325.000000  925.000000\n",
       "mean     0.496216  360.116562  548.390134  108.452308  325.393946\n",
       "std      0.500256   87.866662  135.221460   26.325744   78.862779\n",
       "min      0.000000  209.560000  139.965000   57.000000  163.000000\n",
       "25%      0.000000  278.640000  467.373000   87.000000  257.900000\n",
       "50%      0.000000  367.640000  569.841000  105.000000  342.350000\n",
       "75%      1.000000  437.600000  652.278000  126.000000  393.000000\n",
       "max      1.000000  539.920000  794.848000  180.000000  457.150000"
      ]
     },
     "execution_count": 6,
     "metadata": {},
     "output_type": "execute_result"
    }
   ],
   "source": [
    "#discribing dataset statistics \n",
    "dataset.describe()"
   ]
  },
  {
   "cell_type": "code",
   "execution_count": 7,
   "id": "706b85c7",
   "metadata": {},
   "outputs": [
    {
     "name": "stdout",
     "output_type": "stream",
     "text": [
      "Missing values in the entire dataset:\n",
      "target      0\n",
      "var1        0\n",
      "var2        0\n",
      "var3        0\n",
      "var4      600\n",
      "var5        0\n",
      "var6        0\n",
      "var7        0\n",
      "dtype: int64\n"
     ]
    }
   ],
   "source": [
    "#checking missing values in data set\n",
    "missing_values_total = dataset.isnull().sum()\n",
    "print(\"Missing values in the entire dataset:\")\n",
    "print(missing_values_total)"
   ]
  },
  {
   "cell_type": "code",
   "execution_count": 8,
   "id": "26e7f03a",
   "metadata": {},
   "outputs": [
    {
     "name": "stdout",
     "output_type": "stream",
     "text": [
      "\n",
      "Missing values in specific columns:\n",
      "var4    600\n",
      "dtype: int64\n"
     ]
    }
   ],
   "source": [
    "#missing value in a var4\n",
    "missing_values_specific = dataset[[\"var4\"]].isnull().sum()\n",
    "print(\"\\nMissing values in specific columns:\")\n",
    "print(missing_values_specific)"
   ]
  },
  {
   "cell_type": "code",
   "execution_count": 9,
   "id": "bde981b9",
   "metadata": {},
   "outputs": [
    {
     "name": "stdout",
     "output_type": "stream",
     "text": [
      "\n",
      "Rows with missing values:\n",
      "     target    var1     var2                var3  var4    var5 var6  \\\n",
      "325       1  304.98  492.700              Bhutan   NaN  444.85  yes   \n",
      "326       1  302.36  515.935          Micronesia   NaN  177.75  yes   \n",
      "327       1  261.68  386.454  Dominican Republic   NaN  412.45  yes   \n",
      "328       1  317.60  155.983          Azerbaijan   NaN  323.15   no   \n",
      "329       0  465.08  606.384                Niue   NaN  421.45  yes   \n",
      "..      ...     ...      ...                 ...   ...     ...  ...   \n",
      "920       0  422.34  547.259             Belarus   NaN  350.45  yes   \n",
      "921       1  342.62  473.919               Japan   NaN  200.85   no   \n",
      "922       1  265.10  538.170        Saint Martin   NaN  208.35  yes   \n",
      "923       0  397.12  622.386                Chad   NaN  433.45  yes   \n",
      "924       1  242.10  420.429             Albania   NaN  369.20  yes   \n",
      "\n",
      "                 var7  \n",
      "325  11/06/2019 18:32  \n",
      "326  13/01/2019 20:38  \n",
      "327  31/05/2019 00:58  \n",
      "328  12/06/2019 03:11  \n",
      "329  27/01/2019 20:47  \n",
      "..                ...  \n",
      "920  22/01/2019 12:58  \n",
      "921  01/02/2019 14:37  \n",
      "922  13/06/2019 18:50  \n",
      "923  27/05/2019 06:19  \n",
      "924  18/06/2019 17:23  \n",
      "\n",
      "[600 rows x 8 columns]\n"
     ]
    }
   ],
   "source": [
    "# Print rows with missing values\n",
    "rows_with_missing_values = dataset[dataset.isnull().any(axis=1)]\n",
    "print(\"\\nRows with missing values:\")\n",
    "print(rows_with_missing_values)"
   ]
  },
  {
   "cell_type": "code",
   "execution_count": null,
   "id": "3358fa36",
   "metadata": {},
   "outputs": [],
   "source": []
  },
  {
   "cell_type": "code",
   "execution_count": 10,
   "id": "2cd14743",
   "metadata": {},
   "outputs": [
    {
     "name": "stdout",
     "output_type": "stream",
     "text": [
      "The mean value of the column is: 108.4523076923077\n"
     ]
    }
   ],
   "source": [
    "mean_value = dataset['var4'].mean()\n",
    "print(\"The mean value of the column is:\", mean_value)"
   ]
  },
  {
   "cell_type": "code",
   "execution_count": 15,
   "id": "1a27190b",
   "metadata": {},
   "outputs": [],
   "source": [
    "for column in dataset.select_dtypes(include=['float64', 'int64']).columns:\n",
    "    dataset[column].fillna(dataset[column].mean(), inplace=True)"
   ]
  },
  {
   "cell_type": "code",
   "execution_count": null,
   "id": "5ecfbfb5",
   "metadata": {},
   "outputs": [],
   "source": []
  },
  {
   "cell_type": "code",
   "execution_count": 17,
   "id": "273fd989",
   "metadata": {},
   "outputs": [
    {
     "data": {
      "text/html": [
       "<div>\n",
       "<style scoped>\n",
       "    .dataframe tbody tr th:only-of-type {\n",
       "        vertical-align: middle;\n",
       "    }\n",
       "\n",
       "    .dataframe tbody tr th {\n",
       "        vertical-align: top;\n",
       "    }\n",
       "\n",
       "    .dataframe thead th {\n",
       "        text-align: right;\n",
       "    }\n",
       "</style>\n",
       "<table border=\"1\" class=\"dataframe\">\n",
       "  <thead>\n",
       "    <tr style=\"text-align: right;\">\n",
       "      <th></th>\n",
       "      <th>target</th>\n",
       "      <th>var1</th>\n",
       "      <th>var2</th>\n",
       "      <th>var3</th>\n",
       "      <th>var4</th>\n",
       "      <th>var5</th>\n",
       "      <th>var6</th>\n",
       "      <th>var7</th>\n",
       "    </tr>\n",
       "  </thead>\n",
       "  <tbody>\n",
       "    <tr>\n",
       "      <th>0</th>\n",
       "      <td>0</td>\n",
       "      <td>509.18</td>\n",
       "      <td>417.681</td>\n",
       "      <td>Micronesia</td>\n",
       "      <td>138.000000</td>\n",
       "      <td>393.00</td>\n",
       "      <td>no</td>\n",
       "      <td>20/07/2019 13:21</td>\n",
       "    </tr>\n",
       "    <tr>\n",
       "      <th>1</th>\n",
       "      <td>0</td>\n",
       "      <td>446.06</td>\n",
       "      <td>666.182</td>\n",
       "      <td>Dominica</td>\n",
       "      <td>81.000000</td>\n",
       "      <td>352.05</td>\n",
       "      <td>yes</td>\n",
       "      <td>04/04/2019 21:30</td>\n",
       "    </tr>\n",
       "    <tr>\n",
       "      <th>2</th>\n",
       "      <td>1</td>\n",
       "      <td>235.50</td>\n",
       "      <td>398.097</td>\n",
       "      <td>Isle of Man</td>\n",
       "      <td>90.000000</td>\n",
       "      <td>339.00</td>\n",
       "      <td>no</td>\n",
       "      <td>03/03/2019 02:59</td>\n",
       "    </tr>\n",
       "    <tr>\n",
       "      <th>3</th>\n",
       "      <td>0</td>\n",
       "      <td>306.02</td>\n",
       "      <td>518.163</td>\n",
       "      <td>Turkmenistan</td>\n",
       "      <td>102.000000</td>\n",
       "      <td>439.25</td>\n",
       "      <td>yes</td>\n",
       "      <td>19/03/2019 08:00</td>\n",
       "    </tr>\n",
       "    <tr>\n",
       "      <th>4</th>\n",
       "      <td>0</td>\n",
       "      <td>453.08</td>\n",
       "      <td>600.156</td>\n",
       "      <td>Cameroon</td>\n",
       "      <td>105.000000</td>\n",
       "      <td>422.95</td>\n",
       "      <td>no</td>\n",
       "      <td>18/03/2019 13:22</td>\n",
       "    </tr>\n",
       "    <tr>\n",
       "      <th>...</th>\n",
       "      <td>...</td>\n",
       "      <td>...</td>\n",
       "      <td>...</td>\n",
       "      <td>...</td>\n",
       "      <td>...</td>\n",
       "      <td>...</td>\n",
       "      <td>...</td>\n",
       "      <td>...</td>\n",
       "    </tr>\n",
       "    <tr>\n",
       "      <th>321</th>\n",
       "      <td>1</td>\n",
       "      <td>303.44</td>\n",
       "      <td>461.976</td>\n",
       "      <td>Peru</td>\n",
       "      <td>135.000000</td>\n",
       "      <td>178.30</td>\n",
       "      <td>yes</td>\n",
       "      <td>29/04/2019 14:08</td>\n",
       "    </tr>\n",
       "    <tr>\n",
       "      <th>322</th>\n",
       "      <td>1</td>\n",
       "      <td>273.18</td>\n",
       "      <td>687.378</td>\n",
       "      <td>Turkmenistan</td>\n",
       "      <td>117.000000</td>\n",
       "      <td>249.75</td>\n",
       "      <td>yes</td>\n",
       "      <td>24/03/2019 09:12</td>\n",
       "    </tr>\n",
       "    <tr>\n",
       "      <th>323</th>\n",
       "      <td>0</td>\n",
       "      <td>385.00</td>\n",
       "      <td>597.976</td>\n",
       "      <td>Slovakia (Slovak Republic)</td>\n",
       "      <td>87.000000</td>\n",
       "      <td>425.05</td>\n",
       "      <td>yes</td>\n",
       "      <td>03/05/2019 16:02</td>\n",
       "    </tr>\n",
       "    <tr>\n",
       "      <th>324</th>\n",
       "      <td>1</td>\n",
       "      <td>283.92</td>\n",
       "      <td>488.677</td>\n",
       "      <td>Martinique</td>\n",
       "      <td>84.000000</td>\n",
       "      <td>220.75</td>\n",
       "      <td>no</td>\n",
       "      <td>22/01/2019 15:03</td>\n",
       "    </tr>\n",
       "    <tr>\n",
       "      <th>325</th>\n",
       "      <td>1</td>\n",
       "      <td>304.98</td>\n",
       "      <td>492.700</td>\n",
       "      <td>Bhutan</td>\n",
       "      <td>108.452308</td>\n",
       "      <td>444.85</td>\n",
       "      <td>yes</td>\n",
       "      <td>11/06/2019 18:32</td>\n",
       "    </tr>\n",
       "  </tbody>\n",
       "</table>\n",
       "<p>326 rows × 8 columns</p>\n",
       "</div>"
      ],
      "text/plain": [
       "     target    var1     var2                        var3        var4    var5  \\\n",
       "0         0  509.18  417.681                  Micronesia  138.000000  393.00   \n",
       "1         0  446.06  666.182                    Dominica   81.000000  352.05   \n",
       "2         1  235.50  398.097                 Isle of Man   90.000000  339.00   \n",
       "3         0  306.02  518.163                Turkmenistan  102.000000  439.25   \n",
       "4         0  453.08  600.156                    Cameroon  105.000000  422.95   \n",
       "..      ...     ...      ...                         ...         ...     ...   \n",
       "321       1  303.44  461.976                        Peru  135.000000  178.30   \n",
       "322       1  273.18  687.378                Turkmenistan  117.000000  249.75   \n",
       "323       0  385.00  597.976  Slovakia (Slovak Republic)   87.000000  425.05   \n",
       "324       1  283.92  488.677                  Martinique   84.000000  220.75   \n",
       "325       1  304.98  492.700                      Bhutan  108.452308  444.85   \n",
       "\n",
       "    var6              var7  \n",
       "0     no  20/07/2019 13:21  \n",
       "1    yes  04/04/2019 21:30  \n",
       "2     no  03/03/2019 02:59  \n",
       "3    yes  19/03/2019 08:00  \n",
       "4     no  18/03/2019 13:22  \n",
       "..   ...               ...  \n",
       "321  yes  29/04/2019 14:08  \n",
       "322  yes  24/03/2019 09:12  \n",
       "323  yes  03/05/2019 16:02  \n",
       "324   no  22/01/2019 15:03  \n",
       "325  yes  11/06/2019 18:32  \n",
       "\n",
       "[326 rows x 8 columns]"
      ]
     },
     "execution_count": 17,
     "metadata": {},
     "output_type": "execute_result"
    }
   ],
   "source": [
    "dataset.head(326)"
   ]
  },
  {
   "cell_type": "code",
   "execution_count": 18,
   "id": "d2b1d35a",
   "metadata": {},
   "outputs": [
    {
     "name": "stdout",
     "output_type": "stream",
     "text": [
      "Missing values in the entire dataset:\n",
      "target    0\n",
      "var1      0\n",
      "var2      0\n",
      "var3      0\n",
      "var4      0\n",
      "var5      0\n",
      "var6      0\n",
      "var7      0\n",
      "dtype: int64\n"
     ]
    }
   ],
   "source": [
    "#checking missing values\n",
    "missing_values_total = dataset.isnull().sum()\n",
    "print(\"Missing values in the entire dataset:\")\n",
    "print(missing_values_total)"
   ]
  },
  {
   "cell_type": "code",
   "execution_count": 19,
   "id": "f03154cf",
   "metadata": {},
   "outputs": [
    {
     "name": "stdout",
     "output_type": "stream",
     "text": [
      "Data types of each column:\n",
      "target      int64\n",
      "var1      float64\n",
      "var2      float64\n",
      "var3       object\n",
      "var4      float64\n",
      "var5      float64\n",
      "var6       object\n",
      "var7       object\n",
      "dtype: object\n"
     ]
    }
   ],
   "source": [
    "# Check data types of each column\n",
    "column_data_types = dataset.dtypes\n",
    "print(\"Data types of each column:\")\n",
    "print(column_data_types)\n",
    "# question do i need to change target an dvar6 into boolean and var 7 into date time format"
   ]
  },
  {
   "cell_type": "code",
   "execution_count": 20,
   "id": "b9f2c9a7",
   "metadata": {},
   "outputs": [
    {
     "data": {
      "text/html": [
       "<div>\n",
       "<style scoped>\n",
       "    .dataframe tbody tr th:only-of-type {\n",
       "        vertical-align: middle;\n",
       "    }\n",
       "\n",
       "    .dataframe tbody tr th {\n",
       "        vertical-align: top;\n",
       "    }\n",
       "\n",
       "    .dataframe thead th {\n",
       "        text-align: right;\n",
       "    }\n",
       "</style>\n",
       "<table border=\"1\" class=\"dataframe\">\n",
       "  <thead>\n",
       "    <tr style=\"text-align: right;\">\n",
       "      <th></th>\n",
       "      <th>target</th>\n",
       "      <th>var1</th>\n",
       "      <th>var2</th>\n",
       "      <th>var3</th>\n",
       "      <th>var4</th>\n",
       "      <th>var5</th>\n",
       "      <th>var6</th>\n",
       "      <th>var7</th>\n",
       "    </tr>\n",
       "  </thead>\n",
       "  <tbody>\n",
       "    <tr>\n",
       "      <th>0</th>\n",
       "      <td>0</td>\n",
       "      <td>509.18</td>\n",
       "      <td>417.681</td>\n",
       "      <td>Micronesia</td>\n",
       "      <td>138.0</td>\n",
       "      <td>393.00</td>\n",
       "      <td>no</td>\n",
       "      <td>20/07/2019 13:21</td>\n",
       "    </tr>\n",
       "    <tr>\n",
       "      <th>1</th>\n",
       "      <td>0</td>\n",
       "      <td>446.06</td>\n",
       "      <td>666.182</td>\n",
       "      <td>Dominica</td>\n",
       "      <td>81.0</td>\n",
       "      <td>352.05</td>\n",
       "      <td>yes</td>\n",
       "      <td>04/04/2019 21:30</td>\n",
       "    </tr>\n",
       "    <tr>\n",
       "      <th>2</th>\n",
       "      <td>1</td>\n",
       "      <td>235.50</td>\n",
       "      <td>398.097</td>\n",
       "      <td>Isle of Man</td>\n",
       "      <td>90.0</td>\n",
       "      <td>339.00</td>\n",
       "      <td>no</td>\n",
       "      <td>03/03/2019 02:59</td>\n",
       "    </tr>\n",
       "    <tr>\n",
       "      <th>3</th>\n",
       "      <td>0</td>\n",
       "      <td>306.02</td>\n",
       "      <td>518.163</td>\n",
       "      <td>Turkmenistan</td>\n",
       "      <td>102.0</td>\n",
       "      <td>439.25</td>\n",
       "      <td>yes</td>\n",
       "      <td>19/03/2019 08:00</td>\n",
       "    </tr>\n",
       "    <tr>\n",
       "      <th>4</th>\n",
       "      <td>0</td>\n",
       "      <td>453.08</td>\n",
       "      <td>600.156</td>\n",
       "      <td>Cameroon</td>\n",
       "      <td>105.0</td>\n",
       "      <td>422.95</td>\n",
       "      <td>no</td>\n",
       "      <td>18/03/2019 13:22</td>\n",
       "    </tr>\n",
       "  </tbody>\n",
       "</table>\n",
       "</div>"
      ],
      "text/plain": [
       "   target    var1     var2          var3   var4    var5 var6              var7\n",
       "0       0  509.18  417.681    Micronesia  138.0  393.00   no  20/07/2019 13:21\n",
       "1       0  446.06  666.182      Dominica   81.0  352.05  yes  04/04/2019 21:30\n",
       "2       1  235.50  398.097   Isle of Man   90.0  339.00   no  03/03/2019 02:59\n",
       "3       0  306.02  518.163  Turkmenistan  102.0  439.25  yes  19/03/2019 08:00\n",
       "4       0  453.08  600.156      Cameroon  105.0  422.95   no  18/03/2019 13:22"
      ]
     },
     "execution_count": 20,
     "metadata": {},
     "output_type": "execute_result"
    }
   ],
   "source": [
    "dataset.head(5)"
   ]
  },
  {
   "cell_type": "code",
   "execution_count": 21,
   "id": "68b99377",
   "metadata": {},
   "outputs": [],
   "source": [
    "# changing data type of target column\n",
    "dataset['var3'] = dataset['var3'].astype(str)"
   ]
  },
  {
   "cell_type": "code",
   "execution_count": 22,
   "id": "0b6d2cef",
   "metadata": {},
   "outputs": [],
   "source": [
    "dataset = dataset.convert_dtypes()\n"
   ]
  },
  {
   "cell_type": "code",
   "execution_count": 23,
   "id": "9405fd72",
   "metadata": {},
   "outputs": [
    {
     "name": "stdout",
     "output_type": "stream",
     "text": [
      "['target', 'var1', 'var2', 'var3', 'var4', 'var5', 'var6', 'var7']\n"
     ]
    }
   ],
   "source": [
    "print(dataset.columns.tolist())  "
   ]
  },
  {
   "cell_type": "code",
   "execution_count": 22,
   "id": "4db92675",
   "metadata": {},
   "outputs": [],
   "source": []
  },
  {
   "cell_type": "code",
   "execution_count": 24,
   "id": "1c17a34c",
   "metadata": {},
   "outputs": [],
   "source": [
    "# Convert categorical variables to numerical using one-hot encoding\n",
    "dataset = pd.get_dummies(dataset, drop_first=True)"
   ]
  },
  {
   "cell_type": "code",
   "execution_count": 25,
   "id": "b369bd07",
   "metadata": {},
   "outputs": [],
   "source": [
    "# Standardize numerical features\n",
    "\n",
    "from sklearn.preprocessing import LabelEncoder, StandardScaler\n",
    "numerical_features = dataset.select_dtypes(include=['float64', 'int64']).columns\n",
    "scaler = StandardScaler()\n",
    "dataset[numerical_features] = scaler.fit_transform(dataset[numerical_features])\n"
   ]
  },
  {
   "cell_type": "code",
   "execution_count": 52,
   "id": "c3f5faf2",
   "metadata": {},
   "outputs": [
    {
     "name": "stdout",
     "output_type": "stream",
     "text": [
      "\n",
      "Preprocessed data:\n",
      "     target      var1      var2      var4      var5  var3_Albania  \\\n",
      "0 -0.992461  1.697391 -0.967153  1.896449  0.857726             0   \n",
      "1 -0.992461  0.978641  0.871575 -1.761962  0.338188             0   \n",
      "2  1.007596 -1.419013 -1.112060 -1.184318  0.172622             0   \n",
      "3 -0.992461 -0.616000 -0.223659 -0.414126  1.444505             0   \n",
      "4 -0.992461  1.058578  0.383030 -0.221578  1.237705             0   \n",
      "\n",
      "   var3_Algeria  var3_American Samoa  var3_Andorra  var3_Angola  ...  \\\n",
      "0             0                    0             0            0  ...   \n",
      "1             0                    0             0            0  ...   \n",
      "2             0                    0             0            0  ...   \n",
      "3             0                    0             0            0  ...   \n",
      "4             0                    0             0            0  ...   \n",
      "\n",
      "   var7_31/03/2019 20:55  var7_31/05/2019 00:58  var7_31/05/2019 02:17  \\\n",
      "0                      0                      0                      0   \n",
      "1                      0                      0                      0   \n",
      "2                      0                      0                      0   \n",
      "3                      0                      0                      0   \n",
      "4                      0                      0                      0   \n",
      "\n",
      "   var7_31/05/2019 06:21  var7_31/05/2019 09:06  var7_31/05/2019 11:44  \\\n",
      "0                      0                      0                      0   \n",
      "1                      0                      0                      0   \n",
      "2                      0                      0                      0   \n",
      "3                      0                      0                      0   \n",
      "4                      0                      0                      0   \n",
      "\n",
      "   var7_31/05/2019 17:50  var7_31/05/2019 21:41  var7_31/05/2019 23:32  \\\n",
      "0                      0                      0                      0   \n",
      "1                      0                      0                      0   \n",
      "2                      0                      0                      0   \n",
      "3                      0                      0                      0   \n",
      "4                      0                      0                      0   \n",
      "\n",
      "   var7_31/05/2019 23:42  \n",
      "0                      0  \n",
      "1                      0  \n",
      "2                      0  \n",
      "3                      0  \n",
      "4                      0  \n",
      "\n",
      "[5 rows x 1163 columns]\n"
     ]
    }
   ],
   "source": [
    "# Display the preprocessed dataset\n",
    "print(\"\\nPreprocessed data:\")\n",
    "print(dataset.head())\n"
   ]
  },
  {
   "cell_type": "code",
   "execution_count": 26,
   "id": "49a4f109",
   "metadata": {},
   "outputs": [
    {
     "name": "stdout",
     "output_type": "stream",
     "text": [
      "\n",
      "Preprocessed data saved to preprocessed_dataset1.csv\n"
     ]
    }
   ],
   "source": [
    "# Save the preprocessed dataset to a new file\n",
    "preprocessed_file_path = \"preprocessed_dataset1.csv\"\n",
    "dataset.to_csv(preprocessed_file_path, index=False)\n",
    "print(f\"\\nPreprocessed data saved to {preprocessed_file_path}\")"
   ]
  },
  {
   "cell_type": "code",
   "execution_count": 27,
   "id": "1639dede",
   "metadata": {},
   "outputs": [
    {
     "name": "stdout",
     "output_type": "stream",
     "text": [
      "Index(['target', 'var1', 'var2', 'var4', 'var5', 'var3_Albania',\n",
      "       'var3_Algeria', 'var3_American Samoa', 'var3_Andorra', 'var3_Angola',\n",
      "       ...\n",
      "       'var7_31/03/2019 20:55', 'var7_31/05/2019 00:58',\n",
      "       'var7_31/05/2019 02:17', 'var7_31/05/2019 06:21',\n",
      "       'var7_31/05/2019 09:06', 'var7_31/05/2019 11:44',\n",
      "       'var7_31/05/2019 17:50', 'var7_31/05/2019 21:41',\n",
      "       'var7_31/05/2019 23:32', 'var7_31/05/2019 23:42'],\n",
      "      dtype='object', length=1163)\n"
     ]
    }
   ],
   "source": [
    "from sklearn.model_selection import train_test_split\n",
    "\n",
    "# Check column names\n",
    "print(dataset.columns)\n",
    "\n",
    "# Ensure 'var3' exists in the DataFrame\n",
    "if 'target' in dataset.columns:\n",
    "    # Split the data into training and testing sets\n",
    "    X = dataset.drop('target', axis=1)\n",
    "    y = dataset['target']\n",
    "    X_train, X_test, y_train, y_test = train_test_split(X, y, test_size=0.2, random_state=42)\n",
    "else:\n",
    "    print(\"Error: 'var3' not found in DataFrame columns.\")\n"
   ]
  },
  {
   "cell_type": "code",
   "execution_count": 28,
   "id": "e6a27278",
   "metadata": {},
   "outputs": [],
   "source": [
    "import pandas as pd\n",
    "from sklearn.model_selection import train_test_split\n",
    "from sklearn.preprocessing import StandardScaler, LabelEncoder\n",
    "from sklearn.linear_model import LogisticRegression\n",
    "from sklearn.tree import DecisionTreeClassifier\n",
    "from sklearn.ensemble import RandomForestClassifier\n",
    "from sklearn.metrics import accuracy_score, classification_report\n"
   ]
  },
  {
   "cell_type": "code",
   "execution_count": 29,
   "id": "0cc6f36f",
   "metadata": {},
   "outputs": [
    {
     "name": "stdout",
     "output_type": "stream",
     "text": [
      "Model Accuracy: 0.9513513513513514\n",
      "Classification Report:\n",
      "               precision    recall  f1-score   support\n",
      "\n",
      "           0       0.96      0.95      0.95        97\n",
      "           1       0.94      0.95      0.95        88\n",
      "\n",
      "    accuracy                           0.95       185\n",
      "   macro avg       0.95      0.95      0.95       185\n",
      "weighted avg       0.95      0.95      0.95       185\n",
      "\n"
     ]
    }
   ],
   "source": [
    "# Split the data into training and testing sets\n",
    "X = dataset.drop('target', axis=1)\n",
    "y = dataset['target']\n",
    "X_train, X_test, y_train, y_test = train_test_split(X, y, test_size=0.2, random_state=42)\n",
    "\n",
    "# Ensure the target variable is of integer type for classification models\n",
    "y_train = y_train.astype('int')\n",
    "y_test = y_test.astype('int')\n",
    "\n",
    "# Choose a classification model (example: Logistic Regression)\n",
    "model = LogisticRegression()\n",
    "\n",
    "# Train the model\n",
    "model.fit(X_train, y_train)\n",
    "\n",
    "# Make predictions\n",
    "y_pred = model.predict(X_test)\n",
    "\n",
    "# Evaluate the model\n",
    "print(\"Model Accuracy:\", accuracy_score(y_test, y_pred))\n",
    "print(\"Classification Report:\\n\", classification_report(y_test, y_pred))"
   ]
  },
  {
   "cell_type": "code",
   "execution_count": 31,
   "id": "aed04999",
   "metadata": {},
   "outputs": [
    {
     "name": "stdout",
     "output_type": "stream",
     "text": [
      "Best model parameters: {'C': 100, 'penalty': 'l2'}\n",
      "Cross-validation scores: [0.97297297 0.93243243 0.99324324 0.93243243 0.96621622]\n"
     ]
    }
   ],
   "source": [
    "from sklearn.linear_model import LogisticRegression\n",
    "from sklearn.model_selection import GridSearchCV, cross_val_score\n",
    "\n",
    "# Define the model with 'liblinear' solver\n",
    "model = LogisticRegression(solver='liblinear')\n",
    "\n",
    "# Define the hyperparameters and their ranges\n",
    "param_grid = {'C': [0.001, 0.01, 0.1, 1, 10, 100], 'penalty': ['l1', 'l2']}\n",
    "\n",
    "# Set up the grid search\n",
    "grid_search = GridSearchCV(model, param_grid, cv=5, scoring='accuracy')\n",
    "\n",
    "# Fit the grid search to the data\n",
    "grid_search.fit(X_train, y_train)\n",
    "\n",
    "# Get the best model\n",
    "best_model = grid_search.best_estimator_\n",
    "\n",
    "# Evaluate the best model using cross-validation\n",
    "scores = cross_val_score(best_model, X_train, y_train, cv=5)\n",
    "\n",
    "print(f\"Best model parameters: {grid_search.best_params_}\")\n",
    "print(f\"Cross-validation scores: {scores}\")"
   ]
  },
  {
   "cell_type": "code",
   "execution_count": null,
   "id": "1d2f9a17",
   "metadata": {},
   "outputs": [],
   "source": [
    "#Fine-tune the selected model using appropriate techniques (eg, hyperparameter tuning, cross-validation, etc)."
   ]
  },
  {
   "cell_type": "code",
   "execution_count": null,
   "id": "e92fefc1",
   "metadata": {},
   "outputs": [],
   "source": []
  },
  {
   "cell_type": "code",
   "execution_count": null,
   "id": "3ce3f997",
   "metadata": {},
   "outputs": [],
   "source": [
    "#4 Visualise the dataset and / or the model's results, where applicable (eg, feature importance, confusion matrix, etc)."
   ]
  },
  {
   "cell_type": "code",
   "execution_count": null,
   "id": "00ce4076",
   "metadata": {},
   "outputs": [],
   "source": [
    "#Here’s an example of how you might create a confusion matrix visualization in Python using Matplotlib and Seaborn:"
   ]
  },
  {
   "cell_type": "code",
   "execution_count": 34,
   "id": "69a943b1",
   "metadata": {},
   "outputs": [
    {
     "data": {
      "image/png": "[encoded data removed]",
      "text/plain": [
       "<Figure size 1000x700 with 2 Axes>"
      ]
     },
     "metadata": {},
     "output_type": "display_data"
    }
   ],
   "source": [
    "import matplotlib.pyplot as plt\n",
    "import seaborn as sns\n",
    "from sklearn.metrics import confusion_matrix\n",
    "\n",
    "# Assuming y_test and y_pred are your true and predicted labels\n",
    "cm = confusion_matrix(y_test, y_pred)\n",
    "\n",
    "plt.figure(figsize=(10,7))\n",
    "sns.heatmap(cm, annot=True, fmt='d')\n",
    "plt.xlabel('Predicted')\n",
    "plt.ylabel('True')\n",
    "plt.show()"
   ]
  },
  {
   "cell_type": "code",
   "execution_count": 37,
   "id": "bdc18360",
   "metadata": {},
   "outputs": [
    {
     "data": {
      "image/png": "[encoded data removed]",
      "text/plain": [
       "<Figure size 640x480 with 1 Axes>"
      ]
     },
     "metadata": {},
     "output_type": "display_data"
    }
   ],
   "source": [
    "# Visualize the model's results\n",
    "feature_importances = grid_search.best_estimator_.feature_importances_\n",
    "sns.barplot(x=feature_importances, y=X.columns)\n",
    "plt.show()"
   ]
  },
  {
   "cell_type": "code",
   "execution_count": 36,
   "id": "ba73818b",
   "metadata": {},
   "outputs": [
    {
     "name": "stdout",
     "output_type": "stream",
     "text": [
      "Best model parameters: {'max_depth': None, 'n_estimators': 200}\n",
      "Cross-validation scores: [0.97297297 0.93243243 0.97972973 0.94594595 0.95945946]\n"
     ]
    }
   ],
   "source": [
    "#fine tune model\n",
    "from sklearn.ensemble import RandomForestClassifier\n",
    "from sklearn.model_selection import GridSearchCV, cross_val_score\n",
    "\n",
    "# Define the model\n",
    "model = RandomForestClassifier()\n",
    "\n",
    "# Define the hyperparameters and their ranges\n",
    "param_grid = {'n_estimators': [100, 200], 'max_depth': [None, 10]}\n",
    "\n",
    "# Set up the grid search\n",
    "grid_search = GridSearchCV(model, param_grid, cv=5)\n",
    "\n",
    "# Fit the grid search to the data\n",
    "grid_search.fit(X_train, y_train)\n",
    "\n",
    "# Get the best model\n",
    "best_model = grid_search.best_estimator_\n",
    "\n",
    "# Evaluate the best model using cross-validation\n",
    "scores = cross_val_score(best_model, X_train, y_train, cv=5)\n",
    "\n",
    "print(f\"Best model parameters: {grid_search.best_params_}\")\n",
    "print(f\"Cross-validation scores: {scores}\")\n",
    "\n"
   ]
  },
  {
   "cell_type": "code",
   "execution_count": 38,
   "id": "219ced13",
   "metadata": {},
   "outputs": [
    {
     "data": {
      "image/png": "[encoded data removed]",
      "text/plain": [
       "<Figure size 640x480 with 2 Axes>"
      ]
     },
     "metadata": {},
     "output_type": "display_data"
    }
   ],
   "source": [
    "conf_matrix = confusion_matrix(y_test, grid_search.predict(X_test))\n",
    "sns.heatmap(conf_matrix, annot=True)\n",
    "plt.show()\n"
   ]
  },
  {
   "cell_type": "code",
   "execution_count": 39,
   "id": "0b7a9445",
   "metadata": {},
   "outputs": [
    {
     "name": "stdout",
     "output_type": "stream",
     "text": [
      "              precision    recall  f1-score   support\n",
      "\n",
      "           0       0.97      0.96      0.96        97\n",
      "           1       0.96      0.97      0.96        88\n",
      "\n",
      "    accuracy                           0.96       185\n",
      "   macro avg       0.96      0.96      0.96       185\n",
      "weighted avg       0.96      0.96      0.96       185\n",
      "\n"
     ]
    }
   ],
   "source": [
    "# Report the final performance\n",
    "report = classification_report(y_test, grid_search.predict(X_test))\n",
    "print(report)"
   ]
  },
  {
   "cell_type": "code",
   "execution_count": null,
   "id": "4988b3fe",
   "metadata": {},
   "outputs": [],
   "source": []
  },
  {
   "cell_type": "code",
   "execution_count": null,
   "id": "3febdb70",
   "metadata": {},
   "outputs": [],
   "source": []
  },
  {
   "cell_type": "code",
   "execution_count": null,
   "id": "2539d56d",
   "metadata": {},
   "outputs": [],
   "source": []
  },
  {
   "cell_type": "code",
   "execution_count": null,
   "id": "126bdd96",
   "metadata": {},
   "outputs": [],
   "source": []
  },
  {
   "cell_type": "code",
   "execution_count": null,
   "id": "86573f0c",
   "metadata": {},
   "outputs": [],
   "source": []
  },
  {
   "cell_type": "code",
   "execution_count": null,
   "id": "f62f98d2",
   "metadata": {},
   "outputs": [],
   "source": []
  }
 ],
 "metadata": {
  "kernelspec": {
   "display_name": "Python 3 (ipykernel)",
   "language": "python",
   "name": "python3"
  },
  "language_info": {
   "codemirror_mode": {
    "name": "ipython",
    "version": 3
   },
   "file_extension": ".py",
   "mimetype": "text/x-python",
   "name": "python",
   "nbconvert_exporter": "python",
   "pygments_lexer": "ipython3",
   "version": "3.10.9"
  }
 },
 "nbformat": 4,
 "nbformat_minor": 5
}
